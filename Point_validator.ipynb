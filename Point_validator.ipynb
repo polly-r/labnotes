{
 "cells": [
  {
   "cell_type": "code",
   "execution_count": 15,
   "metadata": {},
   "outputs": [
    {
     "name": "stdout",
     "output_type": "stream",
     "text": [
      "Requirement already satisfied: emoji in /Users/pollyramaselele/opt/anaconda3/lib/python3.9/site-packages (2.2.0)\n",
      "Note: you may need to restart the kernel to use updated packages.\n"
     ]
    }
   ],
   "source": [
    "# Point validator. This verifies whether the entered point lies within\n",
    "# the bounds of the latitude and longitude of the world.\n",
    "\n",
    "#Install emoji library\n",
    "%pip install emoji\n",
    "import emoji\n",
    "\n"
   ]
  },
  {
   "cell_type": "code",
   "execution_count": 16,
   "metadata": {},
   "outputs": [],
   "source": [
    "import emoji"
   ]
  },
  {
   "cell_type": "code",
   "execution_count": 17,
   "metadata": {},
   "outputs": [
    {
     "name": "stdout",
     "output_type": "stream",
     "text": [
      "Requirement already satisfied: geopy in /Users/pollyramaselele/opt/anaconda3/lib/python3.9/site-packages (2.2.0)\n",
      "Requirement already satisfied: geographiclib<2,>=1.49 in /Users/pollyramaselele/opt/anaconda3/lib/python3.9/site-packages (from geopy) (1.52)\n",
      "Note: you may need to restart the kernel to use updated packages.\n"
     ]
    }
   ],
   "source": [
    "%pip install geopy"
   ]
  },
  {
   "cell_type": "code",
   "execution_count": 18,
   "metadata": {},
   "outputs": [],
   "source": [
    "from geopy.geocoders import Nominatim\n"
   ]
  },
  {
   "cell_type": "code",
   "execution_count": 38,
   "metadata": {},
   "outputs": [
    {
     "name": "stdout",
     "output_type": "stream",
     "text": [
      "Please enter an integer value.\n",
      " \n",
      "        COORDINATE POINT VALIDATOR\n",
      "\n",
      "        OPTIONS:\n",
      "        1️⃣ Validate a point\n",
      "        2️⃣ Get address of point (reverse geocode)\n",
      "        3️⃣ Show history\n",
      "        4️⃣ End validator\n",
      "        \n",
      "        \n"
     ]
    }
   ],
   "source": [
    "# While loop during runtime \n",
    "active = True;\n",
    "points_validated = [];\n",
    "points_geocoded = [];\n",
    "\n",
    "def showhistory():\n",
    "    print(f'Points validated: {len(points_validated)} \\n Points geocoded: {len(points_geocoded)}')\n",
    "    for i in points_validated:\n",
    "        print(i)\n",
    "    for i in points_geocoded:\n",
    "        print(i)\n",
    "\n",
    "def validity(lat, long):\n",
    "    valid = True;\n",
    "    if (-90 < lat < 90 and -180 < long < 180):\n",
    "        valid = True\n",
    "        reason = f'Both {lat} degrees latitude and {long} degrees longitude exist at some point on Earth!'\n",
    "    else:\n",
    "        #Reason for invalid values\n",
    "        if (lat < -90 or lat > 90):\n",
    "            reason = f'The latitude {lat} is out of range because it is beyond 90 degrees.'\n",
    "            valid = False\n",
    "        else:\n",
    "            reason = f'The latitude {lat} exists; it lies between -90 and 90'\n",
    "        if (long < -180 or long > 180):\n",
    "            reason = f'The longitude {long} is out of range as it is beyond -180, 180 degrees.'\n",
    "            valid = False   \n",
    "        else:\n",
    "            reason = f'The longitude {long} exists; it lies between (-180 and 180) degrees.'\n",
    "    \n",
    "    #Update output to history\n",
    "    points_validated.append([lat, long, reason, valid])\n",
    "    print(f'Reason: {reason}')\n",
    "    print(f'Valid: {valid}')\n",
    "\n",
    "def geocode_point(lat, long):\n",
    "    geolocator = Nominatim(user_agent=\"geoapiExercises\")\n",
    "    try:\n",
    "        location = geolocator.reverse(f\"{lat}, {long}\", exactly_one=True)\n",
    "        points_geocoded.append([lat, long, address])\n",
    "        return location.address\n",
    "    except (ValueError, AttributeError):\n",
    "        # If the request fails, try again with a slight adjustment to the latitude and longitude\n",
    "        adjusted_lat = lat + 2\n",
    "        adjusted_long = long + 2\n",
    "        location = geolocator.reverse(f\"{adjusted_lat}, {adjusted_long}\", exactly_one=True)\n",
    "        points_geocoded.append([adjusted_lat, adjusted_long, address])\n",
    "        return location.address\n",
    "    \n",
    "\n",
    "while active:\n",
    "    print(emoji.emojize(\n",
    "        \"\"\" \n",
    "        COORDINATE POINT VALIDATOR\n",
    "\n",
    "        OPTIONS:\n",
    "        :keycap_1: Validate a point\n",
    "        :keycap_2: Get address of point (reverse geocode)\n",
    "        :keycap_3: Show history\n",
    "        :keycap_4: End validator\n",
    "        \n",
    "        \"\"\" ))\n",
    "    \n",
    "    option = int(input(\"Choose an option: \"))\n",
    "\n",
    "    if option == 1:\n",
    "        try:\n",
    "            lat = int(input('Please enter a latitude.'))\n",
    "            long = int(input('Please enter a longitude.'))\n",
    "        except (ValueError, NameError):\n",
    "            print('Please enter an integer value.')\n",
    "        else:\n",
    "            validity(lat, long) \n",
    "    elif option == 2:\n",
    "        try:\n",
    "            lat = int(input('Please enter a latitude.'))\n",
    "            long = int(input('Please enter a longitude.'))\n",
    "        except (ValueError, NameError):\n",
    "            print('Please enter an integer value.')\n",
    "        else:\n",
    "            address = geocode_point(lat, long)\n",
    "            print(address)\n",
    "\n",
    "    elif option == 3:\n",
    "        showhistory()\n",
    "    elif option == 4:\n",
    "        active = False\n",
    "    else:\n",
    "        print('Please enter a valid option.')      "
   ]
  },
  {
   "cell_type": "code",
   "execution_count": null,
   "metadata": {},
   "outputs": [],
   "source": []
  },
  {
   "cell_type": "code",
   "execution_count": null,
   "metadata": {},
   "outputs": [],
   "source": []
  }
 ],
 "metadata": {
  "kernelspec": {
   "display_name": "base",
   "language": "python",
   "name": "python3"
  },
  "language_info": {
   "codemirror_mode": {
    "name": "ipython",
    "version": 3
   },
   "file_extension": ".py",
   "mimetype": "text/x-python",
   "name": "python",
   "nbconvert_exporter": "python",
   "pygments_lexer": "ipython3",
   "version": "3.9.7"
  },
  "orig_nbformat": 4,
  "vscode": {
   "interpreter": {
    "hash": "b436baaafad89f1488326ac98f14a8b54951849532e728cf5e1bdb40e69a6966"
   }
  }
 },
 "nbformat": 4,
 "nbformat_minor": 2
}

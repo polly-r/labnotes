{
 "cells": [
  {
   "cell_type": "code",
   "execution_count": null,
   "metadata": {},
   "outputs": [],
   "source": [
    "# Point validator. This verifies whether the entered point lies within\n",
    "# the bounds of the latitude and longitude of the world."
   ]
  },
  {
   "cell_type": "code",
   "execution_count": null,
   "metadata": {},
   "outputs": [],
   "source": [
    "%pip install geopy"
   ]
  },
  {
   "cell_type": "code",
   "execution_count": 3,
   "metadata": {},
   "outputs": [],
   "source": [
    "from geopy.geocoders import Nominatim\n"
   ]
  },
  {
   "cell_type": "code",
   "execution_count": null,
   "metadata": {},
   "outputs": [],
   "source": [
    "# Point validator. This verifies whether the entered point lies within\n",
    "# the bounds of the latitude and longitude of the world.\n",
    "\n",
    "# While loop during runtime - deactivated by choosing 3 to end validator. \n",
    "active = True;\n",
    "points_validated = []; \n",
    "\n",
    "def showhistory():\n",
    "    print(f'Points validated: {len(points_validated)}')\n",
    "    for i in points_validated:\n",
    "        print(i)\n",
    "\n",
    "def validity(lat, long):\n",
    "    valid = True;\n",
    "    if (-90 < lat < 90 and -180 < long < 180):\n",
    "        valid = True\n",
    "        reason = f'Both {lat} degrees latitude and {long} degrees longitude exist at some point on Earth!'\n",
    "    else:\n",
    "        #Reason for invalid values\n",
    "        if (lat < -90 or lat > 90):\n",
    "            reason = f'The latitude {lat} is out of range because it is beyond 90 degrees.'\n",
    "            valid = False\n",
    "        else:\n",
    "            reason = f'The latitude {lat} exists; it lies between -90 and 90'\n",
    "        if (long < -180 or long > 180):\n",
    "            reason = f'The longitude {long} is out of range as it is beyond -180, 180 degrees.'\n",
    "            valid = False   \n",
    "        else:\n",
    "            reason = f'The longitude {long} exists; it lies between (-180 and 180) degrees.'\n",
    "    \n",
    "    #Update output to history\n",
    "    points_validated.append([lat, long, reason, valid])\n",
    "    print(f'Reason: {reason}')\n",
    "    print(f'Coordinate Valid: {valid}')\n",
    "    \n",
    "\n",
    "while active:\n",
    "    print(\n",
    "        \"\"\" \n",
    "        COORDINATE POINT VALIDATOR\n",
    "\n",
    "        OPTIONS:\n",
    "        1: Validate a point\n",
    "        2: Show history\n",
    "        3: End validator\n",
    "        \n",
    "        \"\"\" )\n",
    "    \n",
    "    option = int(input(\"Choose an option: \"))\n",
    "\n",
    "    if option == 1:\n",
    "        try:\n",
    "            lat = int(input('Please enter a latitude.'))\n",
    "            long = int(input('Please enter a longitude.'))\n",
    "            validity(lat, long)\n",
    "        except (ValueError, NameError):\n",
    "            print('Please enter an integer value.')\n",
    "             \n",
    "    elif option == 2:\n",
    "        showhistory()\n",
    "    elif option == 3:\n",
    "        active = False\n",
    "    else:\n",
    "        print('Please enter a valid option.')      "
   ]
  },
  {
   "cell_type": "code",
   "execution_count": 1,
   "metadata": {},
   "outputs": [],
   "source": [
    "# Point validator using Classes\n",
    "\n",
    "class PointValidator:\n",
    "    def __init__(self):\n",
    "        self.history = []\n",
    "    \n",
    "    def validate_point(self, lat, lon):\n",
    "        self.lat = lat\n",
    "        self.lon = lon\n",
    "        \n",
    "        if self.lat >= -90 and self.lat <= 90:\n",
    "            valid = True\n",
    "            reason = f'The latitude exists; it lies between -90 and 90'\n",
    "        else:\n",
    "            valid = False\n",
    "            reason = f'The latitude does not exist'\n",
    "        \n",
    "        if self.lon >= -180 and self.lon <= 180:\n",
    "            valid = True\n",
    "            reason = f'The longitude exists; it lies between -180 and 180'\n",
    "        else:\n",
    "            valid = False\n",
    "            reason = f'The latitude does not exist'\n",
    "        \n",
    "        print(f'Reason: {reason}')\n",
    "        print(f'Coordinate Valid: {valid}')\n",
    "        self.history.append((lat, lon, valid, reason))\n",
    "            \n",
    "    \n",
    "    def check_history(self):\n",
    "        print(f\"Total points validated: {len(self.history)}\")\n",
    "        for i, point in enumerate(self.history):\n",
    "            print(f\"Point {i+1}: {point[0]}, {point[1]} - Valid: {point[2]}, Reason: {point[3]}\")\n",
    "    \n",
    "    def run(self):\n",
    "        while True:\n",
    "            print(\"\"\" \n",
    "        COORDINATE POINT VALIDATOR\n",
    "\n",
    "        OPTIONS:\n",
    "        1: Validate a point\n",
    "        2: Show history\n",
    "        3: End validator\n",
    "        \n",
    "        \"\"\")\n",
    "            command = int(input(\"Choose an option: \"))\n",
    "\n",
    "        \n",
    "            if command == 1:\n",
    "                lat = float(input(\"Enter latitude: \"))\n",
    "                lon = float(input(\"Enter longitude: \"))\n",
    "                self.validate_point(lat, lon)\n",
    "            elif command == 2:\n",
    "                self.check_history()\n",
    "            elif command == 3:\n",
    "                break\n",
    "            else:\n",
    "                print(\"Command does not exist\")\n",
    "\n",
    "\n"
   ]
  },
  {
   "cell_type": "code",
   "execution_count": 2,
   "metadata": {},
   "outputs": [
    {
     "name": "stdout",
     "output_type": "stream",
     "text": [
      "Total points validated: 1\n",
      "Point 1: 45.0, 46.0 - Valid: True, Reason: The longitude exists; it lies between -180 and 180\n",
      " \n",
      "        COORDINATE POINT VALIDATOR\n",
      "\n",
      "        OPTIONS:\n",
      "        1: Validate a point\n",
      "        2: Show history\n",
      "        3: End validator\n",
      "        \n",
      "        \n"
     ]
    }
   ],
   "source": [
    "point_validator = PointValidator()\n",
    "point_validator.run()"
   ]
  },
  {
   "cell_type": "code",
   "execution_count": null,
   "metadata": {},
   "outputs": [],
   "source": []
  }
 ],
 "metadata": {
  "kernelspec": {
   "display_name": "base",
   "language": "python",
   "name": "python3"
  },
  "language_info": {
   "codemirror_mode": {
    "name": "ipython",
    "version": 3
   },
   "file_extension": ".py",
   "mimetype": "text/x-python",
   "name": "python",
   "nbconvert_exporter": "python",
   "pygments_lexer": "ipython3",
   "version": "3.9.7"
  },
  "orig_nbformat": 4,
  "vscode": {
   "interpreter": {
    "hash": "b436baaafad89f1488326ac98f14a8b54951849532e728cf5e1bdb40e69a6966"
   }
  }
 },
 "nbformat": 4,
 "nbformat_minor": 2
}

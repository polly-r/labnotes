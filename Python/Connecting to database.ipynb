{
 "cells": [
  {
   "cell_type": "code",
   "execution_count": null,
   "metadata": {},
   "outputs": [],
   "source": [
    "%pip install sqlalchemy"
   ]
  },
  {
   "cell_type": "code",
   "execution_count": 4,
   "metadata": {},
   "outputs": [],
   "source": [
    "import sqlalchemy"
   ]
  },
  {
   "cell_type": "code",
   "execution_count": null,
   "metadata": {},
   "outputs": [],
   "source": [
    "Base = declarative_base()\n",
    "\n",
    "class Lake(Base);\n",
    "__tablename__ = \"users\"\n",
    "\n",
    "id = Column(postgresql.UUID(as_uuid))\n",
    "email = Column()"
   ]
  },
  {
   "cell_type": "code",
   "execution_count": null,
   "metadata": {},
   "outputs": [],
   "source": [
    "## Simple select\n",
    "metadata.tables['lake']\n",
    "connection = engine.connect()\n",
    "company = metadata.tables['company']\n",
    "\n",
    "query = db.select([company])\n",
    "result_proxy = connection.execute(query)"
   ]
  }
 ],
 "metadata": {
  "kernelspec": {
   "display_name": "Python 3",
   "language": "python",
   "name": "python3"
  },
  "language_info": {
   "codemirror_mode": {
    "name": "ipython",
    "version": 3
   },
   "file_extension": ".py",
   "mimetype": "text/x-python",
   "name": "python",
   "nbconvert_exporter": "python",
   "pygments_lexer": "ipython3",
   "version": "3.11.2"
  },
  "orig_nbformat": 4,
  "vscode": {
   "interpreter": {
    "hash": "2f665d9b1165357f7c7f8018d184a4f12d648f45e4eacb8a35df5ac95db9c0b0"
   }
  }
 },
 "nbformat": 4,
 "nbformat_minor": 2
}

{
 "cells": [
  {
   "cell_type": "code",
   "execution_count": 1,
   "metadata": {},
   "outputs": [
    {
     "name": "stdout",
     "output_type": "stream",
     "text": [
      "Collecting fiona\n",
      "  Downloading Fiona-1.9.2-cp310-cp310-win_amd64.whl (21.9 MB)\n",
      "     ---------------------------------------- 21.9/21.9 MB 2.2 MB/s eta 0:00:00\n",
      "Collecting click-plugins>=1.0\n",
      "  Downloading click_plugins-1.1.1-py2.py3-none-any.whl (7.5 kB)\n",
      "Collecting cligj>=0.5\n",
      "  Downloading cligj-0.7.2-py3-none-any.whl (7.1 kB)\n",
      "Requirement already satisfied: certifi in c:\\users\\polly\\anaconda3\\lib\\site-packages (from fiona) (2022.12.7)\n",
      "Requirement already satisfied: click~=8.0 in c:\\users\\polly\\anaconda3\\lib\\site-packages (from fiona) (8.0.4)\n",
      "Collecting munch>=2.3.2\n",
      "  Downloading munch-2.5.0-py2.py3-none-any.whl (10 kB)\n",
      "Requirement already satisfied: attrs>=19.2.0 in c:\\users\\polly\\anaconda3\\lib\\site-packages (from fiona) (22.1.0)\n",
      "Requirement already satisfied: colorama in c:\\users\\polly\\anaconda3\\lib\\site-packages (from click~=8.0->fiona) (0.4.6)\n",
      "Requirement already satisfied: six in c:\\users\\polly\\anaconda3\\lib\\site-packages (from munch>=2.3.2->fiona) (1.16.0)\n",
      "Installing collected packages: munch, cligj, click-plugins, fiona\n",
      "Successfully installed click-plugins-1.1.1 cligj-0.7.2 fiona-1.9.2 munch-2.5.0\n",
      "Note: you may need to restart the kernel to use updated packages.\n"
     ]
    }
   ],
   "source": [
    "%pip install fiona"
   ]
  },
  {
   "cell_type": "code",
   "execution_count": 4,
   "metadata": {},
   "outputs": [],
   "source": [
    "import fiona\n",
    "import csv\n",
    "import os"
   ]
  },
  {
   "cell_type": "code",
   "execution_count": 5,
   "metadata": {},
   "outputs": [],
   "source": [
    "class ShapefileValidator:\n",
    "    \n",
    "    def __init__(self, shapefile_path):\n",
    "        self.shapefile_path = shapefile_path\n",
    "        self.layer = fiona.open(self.shapefile_path)\n",
    "        self.geom_types = ['Point', 'MultiPoint', 'LineString', 'MultiLineString', 'Polygon', 'MultiPolygon']\n",
    "        \n",
    "    def validate_features(self):\n",
    "        for feature in self.layer:\n",
    "            try:\n",
    "                fiona.validate_feature(feature)\n",
    "            except Exception as e:\n",
    "                print(f\"Invalid feature: {e}\")\n",
    "                \n",
    "    def check_intersection(self):\n",
    "        geom_type = self.layer.schema['geometry']\n",
    "        if geom_type not in ['LineString', 'MultiLineString', 'Polygon', 'MultiPolygon']:\n",
    "            print(\"Intersection check is not applicable for this geometry type.\")\n",
    "        else:\n",
    "            features = [feat for feat in self.layer]\n",
    "            for i, feat1 in enumerate(features):\n",
    "                geom1 = feat1['geometry']\n",
    "                for j, feat2 in enumerate(features[i+1:], i+1):\n",
    "                    geom2 = feat2['geometry']\n",
    "                    if geom1.intersects(geom2):\n",
    "                        print(f\"Features {i} and {j} intersect.\")\n",
    "                        \n",
    "    def remove_invalid_geometry(self, output_path):\n",
    "        with fiona.open(output_path, 'w', **self.layer.meta) as output:\n",
    "            for feature in self.layer:\n",
    "                try:\n",
    "                    fiona.validate_feature(feature)\n",
    "                    output.write(feature)\n",
    "                except:\n",
    "                    print(f\"Invalid feature. Skipping: {feature}\")\n",
    "                    \n",
    "    def remove_intersecting_geometry(self, output_path):\n",
    "        geom_type = self.layer.schema['geometry']\n",
    "        if geom_type not in ['LineString', 'MultiLineString', 'Polygon', 'MultiPolygon']:\n",
    "            print(\"Intersection check is not applicable for this geometry type.\")\n",
    "        else:\n",
    "            features = [feat for feat in self.layer]\n",
    "            filtered_features = []\n",
    "            for i, feat1 in enumerate(features):\n",
    "                geom1 = feat1['geometry']\n",
    "                intersecting = False\n",
    "                for j, feat2 in enumerate(features[i+1:], i+1):\n",
    "                    geom2 = feat2['geometry']\n",
    "                    if geom1.intersects(geom2):\n",
    "                        print(f\"Features {i} and {j} intersect. Removing feature {j}.\")\n",
    "                        intersecting = True\n",
    "                        break\n",
    "                if not intersecting:\n",
    "                    filtered_features.append(feat1)\n",
    "            with fiona.open(output_path, 'w', **self.layer.meta) as output:\n",
    "                for feature in filtered_features:\n",
    "                    output.write(feature)\n",
    "                    \n",
    "    def to_csv(self, output_path):\n",
    "        geom_type = self.layer.schema['geometry']\n",
    "        if geom_type != 'Point':\n",
    "            print(\"CSV conversion is only applicable for Point geometry.\")\n",
    "        else:\n",
    "            with open(output_path, 'w', newline='') as output:\n",
    "                writer = csv.writer(output)\n",
    "                writer.writerow(['x', 'y'])\n",
    "                for feature in self.layer:\n",
    "                    point = feature['geometry']['coordinates']\n",
    "                    writer.writerow(point)\n",
    "\n",
    "    def run(self):\n",
    "        shapefile_path = input(\"Enter shapefile path: \")\n",
    "        if not os.path.exists(shapefile_path):\n",
    "            print(\"File does not exist.\")\n",
    "            return\n",
    "        \n",
    "        self.sf = shapefile.Reader(shapefile_path)\n",
    "        print(\"Options:\\n1. Validate\\n2. Check intersection\\n3. Remove invalid geometry and export to shapefile\\n4. Remove intersecting geometry and export to shapefile\\n5. Convert to CSV\")\n",
    "        option = int(input(\"Enter option number: \"))\n",
    "        if option == 1:\n",
    "            self.validate_features()\n",
    "        elif option == 2:\n",
    "            self.check_intersection()\n",
    "        elif option == 3:\n",
    "            filename, path = self.output_path\n",
    "            self.remove_invalid_geometry(path, filename)\n",
    "        elif option == 4:\n",
    "            filename, path = self.output_path\n",
    "            self.remove_intersecting_geometries(path, filename)\n",
    "        elif option == 5:\n",
    "            filename, path = self.output_path\n",
    "            self.convert_to_csv(path, filename)\n",
    "        else:\n",
    "            print(\"Invalid option number.\")\n",
    "            "
   ]
  },
  {
   "cell_type": "code",
   "execution_count": 8,
   "metadata": {},
   "outputs": [
    {
     "ename": "NameError",
     "evalue": "name 'os' is not defined",
     "output_type": "error",
     "traceback": [
      "\u001b[1;31m---------------------------------------------------------------------------\u001b[0m",
      "\u001b[1;31mNameError\u001b[0m                                 Traceback (most recent call last)",
      "Cell \u001b[1;32mIn[8], line 2\u001b[0m\n\u001b[0;32m      1\u001b[0m shp_validator \u001b[39m=\u001b[39m ShapefileValidator(\u001b[39m\"\u001b[39m\u001b[39mC:/Users/polly/Documents/Modules/GIS 708 - Advanced GIS/Part 1 - Katumba/Practical 1/Practical 1_Dataset/PR_2011.shp\u001b[39m\u001b[39m\"\u001b[39m)\n\u001b[1;32m----> 2\u001b[0m shp_validator\u001b[39m.\u001b[39;49mrun()\n",
      "Cell \u001b[1;32mIn[5], line 73\u001b[0m, in \u001b[0;36mShapefileValidator.run\u001b[1;34m(self)\u001b[0m\n\u001b[0;32m     71\u001b[0m \u001b[39mdef\u001b[39;00m \u001b[39mrun\u001b[39m(\u001b[39mself\u001b[39m):\n\u001b[0;32m     72\u001b[0m     shapefile_path \u001b[39m=\u001b[39m \u001b[39minput\u001b[39m(\u001b[39m\"\u001b[39m\u001b[39mEnter shapefile path: \u001b[39m\u001b[39m\"\u001b[39m)\n\u001b[1;32m---> 73\u001b[0m     \u001b[39mif\u001b[39;00m \u001b[39mnot\u001b[39;00m os\u001b[39m.\u001b[39mpath\u001b[39m.\u001b[39mexists(shapefile_path):\n\u001b[0;32m     74\u001b[0m         \u001b[39mprint\u001b[39m(\u001b[39m\"\u001b[39m\u001b[39mFile does not exist.\u001b[39m\u001b[39m\"\u001b[39m)\n\u001b[0;32m     75\u001b[0m         \u001b[39mreturn\u001b[39;00m\n",
      "\u001b[1;31mNameError\u001b[0m: name 'os' is not defined"
     ]
    }
   ],
   "source": [
    "shp_validator = ShapefileValidator(\"C:/Users/polly/Documents/Modules/GIS 708 - Advanced GIS/Part 1 - Katumba/Practical 1/Practical 1_Dataset/PR_2011.shp\")\n",
    "shp_validator.run()"
   ]
  }
 ],
 "metadata": {
  "kernelspec": {
   "display_name": "base",
   "language": "python",
   "name": "python3"
  },
  "language_info": {
   "codemirror_mode": {
    "name": "ipython",
    "version": 3
   },
   "file_extension": ".py",
   "mimetype": "text/x-python",
   "name": "python",
   "nbconvert_exporter": "python",
   "pygments_lexer": "ipython3",
   "version": "3.10.9"
  },
  "orig_nbformat": 4
 },
 "nbformat": 4,
 "nbformat_minor": 2
}
